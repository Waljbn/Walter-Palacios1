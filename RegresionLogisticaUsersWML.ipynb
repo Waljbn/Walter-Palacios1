{
 "cells": [
  {
   "cell_type": "code",
   "execution_count": 3,
   "id": "8d5f06d6-2c50-46db-9483-21ce9d7ce613",
   "metadata": {},
   "outputs": [],
   "source": [
    "import pandas as pd\n",
    "from sklearn.linear_model import LogisticRegression\n",
    "from sklearn.model_selection import train_test_split\n",
    "from sklearn.metrics import classification_report"
   ]
  },
  {
   "cell_type": "code",
   "execution_count": 4,
   "id": "818355fe-7a0f-482b-ad94-eb92045561ff",
   "metadata": {},
   "outputs": [
    {
     "data": {
      "text/html": [
       "<div>\n",
       "<style scoped>\n",
       "    .dataframe tbody tr th:only-of-type {\n",
       "        vertical-align: middle;\n",
       "    }\n",
       "\n",
       "    .dataframe tbody tr th {\n",
       "        vertical-align: top;\n",
       "    }\n",
       "\n",
       "    .dataframe thead th {\n",
       "        text-align: right;\n",
       "    }\n",
       "</style>\n",
       "<table border=\"1\" class=\"dataframe\">\n",
       "  <thead>\n",
       "    <tr style=\"text-align: right;\">\n",
       "      <th></th>\n",
       "      <th>duracion</th>\n",
       "      <th>paginas</th>\n",
       "      <th>acciones</th>\n",
       "      <th>valor</th>\n",
       "      <th>clase</th>\n",
       "    </tr>\n",
       "  </thead>\n",
       "  <tbody>\n",
       "    <tr>\n",
       "      <th>0</th>\n",
       "      <td>7.0</td>\n",
       "      <td>2</td>\n",
       "      <td>4</td>\n",
       "      <td>8</td>\n",
       "      <td>2</td>\n",
       "    </tr>\n",
       "    <tr>\n",
       "      <th>1</th>\n",
       "      <td>21.0</td>\n",
       "      <td>2</td>\n",
       "      <td>6</td>\n",
       "      <td>6</td>\n",
       "      <td>2</td>\n",
       "    </tr>\n",
       "    <tr>\n",
       "      <th>2</th>\n",
       "      <td>57.0</td>\n",
       "      <td>2</td>\n",
       "      <td>4</td>\n",
       "      <td>4</td>\n",
       "      <td>2</td>\n",
       "    </tr>\n",
       "    <tr>\n",
       "      <th>3</th>\n",
       "      <td>101.0</td>\n",
       "      <td>3</td>\n",
       "      <td>6</td>\n",
       "      <td>12</td>\n",
       "      <td>2</td>\n",
       "    </tr>\n",
       "    <tr>\n",
       "      <th>4</th>\n",
       "      <td>109.0</td>\n",
       "      <td>2</td>\n",
       "      <td>6</td>\n",
       "      <td>12</td>\n",
       "      <td>2</td>\n",
       "    </tr>\n",
       "  </tbody>\n",
       "</table>\n",
       "</div>"
      ],
      "text/plain": [
       "   duracion  paginas  acciones  valor  clase\n",
       "0       7.0        2         4      8      2\n",
       "1      21.0        2         6      6      2\n",
       "2      57.0        2         4      4      2\n",
       "3     101.0        3         6     12      2\n",
       "4     109.0        2         6     12      2"
      ]
     },
     "execution_count": 4,
     "metadata": {},
     "output_type": "execute_result"
    }
   ],
   "source": [
    "dataframe = pd.read_csv(\"usuarios_win_mac_lin.csv\")\n",
    "dataframe.head()"
   ]
  },
  {
   "cell_type": "code",
   "execution_count": 5,
   "id": "7e4a85a1-1366-4235-99c7-55bafd148c84",
   "metadata": {},
   "outputs": [],
   "source": [
    "X = dataframe[['duracion', 'paginas', 'acciones', 'valor']]\n",
    "y = dataframe['clase']"
   ]
  },
  {
   "cell_type": "code",
   "execution_count": 10,
   "id": "2c8cda1d-109c-4bed-b357-92e4487d9b8d",
   "metadata": {},
   "outputs": [],
   "source": [
    "X_train, X_test, y_train, y_test = train_test_split(X, y, test_size=0.2, random_state=60)"
   ]
  },
  {
   "cell_type": "code",
   "execution_count": 11,
   "id": "e49f22ae-bbeb-4959-b6fc-2a18e7d31363",
   "metadata": {},
   "outputs": [
    {
     "data": {
      "text/plain": [
       "LogisticRegression(max_iter=3000)"
      ]
     },
     "execution_count": 11,
     "metadata": {},
     "output_type": "execute_result"
    }
   ],
   "source": [
    "model = LogisticRegression(solver='lbfgs',max_iter=3000)\n",
    "model.fit(X_train, y_train)"
   ]
  },
  {
   "cell_type": "code",
   "execution_count": 12,
   "id": "793cac86-2f1f-4c04-a102-e0615e1dcb69",
   "metadata": {},
   "outputs": [
    {
     "name": "stdout",
     "output_type": "stream",
     "text": [
      "              precision    recall  f1-score   support\n",
      "\n",
      "           0       0.82      0.93      0.87        15\n",
      "           1       0.80      0.57      0.67         7\n",
      "           2       1.00      1.00      1.00        12\n",
      "\n",
      "    accuracy                           0.88        34\n",
      "   macro avg       0.87      0.83      0.85        34\n",
      "weighted avg       0.88      0.88      0.88        34\n",
      "\n"
     ]
    }
   ],
   "source": [
    "y_pred = model.predict(X_test)\n",
    "print(classification_report(y_test, y_pred))"
   ]
  },
  {
   "cell_type": "code",
   "execution_count": 9,
   "id": "9f796d1c-c0a9-416c-9a26-75133460f4b3",
   "metadata": {},
   "outputs": [
    {
     "name": "stdout",
     "output_type": "stream",
     "text": [
      "     Etiqueta real  Etiqueta predicha\n",
      "139              0                  0\n",
      "30               1                  1\n",
      "119              2                  2\n",
      "29               1                  1\n",
      "144              0                  0\n",
      "163              0                  0\n",
      "166              0                  0\n",
      "51               0                  0\n",
      "105              1                  0\n",
      "60               0                  2\n",
      "15               2                  2\n",
      "158              0                  0\n",
      "135              0                  0\n",
      "45               1                  1\n",
      "68               0                  0\n",
      "85               0                  0\n",
      "24               1                  0\n",
      "109              1                  0\n",
      "75               0                  1\n",
      "108              1                  0\n",
      "19               1                  0\n",
      "16               2                  2\n",
      "31               1                  1\n",
      "18               1                  0\n",
      "12               2                  2\n",
      "9                2                  2\n",
      "82               0                  0\n",
      "98               1                  0\n",
      "76               0                  1\n",
      "55               0                  0\n",
      "42               1                  0\n",
      "56               0                  0\n",
      "150              0                  0\n",
      "111              2                  2\n"
     ]
    }
   ],
   "source": [
    "predictions = pd.DataFrame({'Etiqueta real': y_test, 'Etiqueta predicha': y_pred})\n",
    "print(predictions)"
   ]
  }
 ],
 "metadata": {
  "kernelspec": {
   "display_name": "Python 3 (ipykernel)",
   "language": "python",
   "name": "python3"
  },
  "language_info": {
   "codemirror_mode": {
    "name": "ipython",
    "version": 3
   },
   "file_extension": ".py",
   "mimetype": "text/x-python",
   "name": "python",
   "nbconvert_exporter": "python",
   "pygments_lexer": "ipython3",
   "version": "3.9.13"
  }
 },
 "nbformat": 4,
 "nbformat_minor": 5
}
